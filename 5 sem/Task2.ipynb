{
 "cells": [
  {
   "cell_type": "markdown",
   "metadata": {},
   "source": [
    "# Задача II.10.6 (ж)\n",
    "##### Северилов Павел 674 группа"
   ]
  },
  {
   "cell_type": "markdown",
   "metadata": {},
   "source": [
    "Решить методами Гаусса и Зейделя, найти  $\\lambda_{min},  \\lambda_{max}$, определить число обусловленности матрицы $μ = ||A||·||A^{(-1)}||$. Сделать печать невязок обоих методов. Указать критерий останова итераций метода Зейделя.\n",
    "\n",
    "В пукте ж) система п. д) при a = 20."
   ]
  },
  {
   "cell_type": "markdown",
   "metadata": {},
   "source": [
    "<p style=\"align: center;\"><img align=center src=\"https://s8.hostingkartinok.com/uploads/images/2018/10/417b0cd2893e7403e0bbaf5de562eacd.png\"  width=500 height=400></p>"
   ]
  },
  {
   "cell_type": "code",
   "execution_count": 1,
   "metadata": {
    "collapsed": true
   },
   "outputs": [],
   "source": [
    "import numpy as np\n",
    "import plotly.plotly as py\n",
    "import plotly.graph_objs as go"
   ]
  },
  {
   "cell_type": "markdown",
   "metadata": {},
   "source": [
    "### Составим систему"
   ]
  },
  {
   "cell_type": "code",
   "execution_count": 2,
   "metadata": {},
   "outputs": [
    {
     "data": {
      "text/plain": [
       "array([[ 20.,   1.,   1., ...,   0.,   0.,   1.],\n",
       "       [  1.,  20.,   1., ...,   0.,   0.,   2.],\n",
       "       [  1.,   1.,  20., ...,   0.,   0.,   3.],\n",
       "       ...,\n",
       "       [  0.,   0.,   0., ...,   1.,   1.,  98.],\n",
       "       [  0.,   0.,   0., ...,  20.,   1.,  99.],\n",
       "       [  0.,   0.,   0., ...,   1.,  20., 100.]])"
      ]
     },
     "execution_count": 2,
     "metadata": {},
     "output_type": "execute_result"
    }
   ],
   "source": [
    "N = 100\n",
    "a = 20\n",
    "\n",
    "A = a*np.eye(N)\n",
    "for i in range(N):\n",
    "    for j in range(N):\n",
    "        if (i > j) & (i - j < 5):\n",
    "            A[i][j] = 1\n",
    "        if (i < j) & (j - i < 5):\n",
    "            A[i][j] = 1\n",
    "            \n",
    "b = [float(i+1) for i in range(N)]\n",
    "mtrx = np.column_stack((A, b)) # расширенная матрица\n",
    "mtrx"
   ]
  },
  {
   "cell_type": "markdown",
   "metadata": {},
   "source": [
    "Сразу вычислим число обусловленности и $\\lambda_{min},  \\lambda_{max}$"
   ]
  },
  {
   "cell_type": "code",
   "execution_count": 3,
   "metadata": {},
   "outputs": [
    {
     "name": "stdout",
     "output_type": "stream",
     "text": [
      "mu = 1.647395\n",
      "lambda_min(A) = 16.979513\n",
      "lambda_max(A) = 27.971963\n"
     ]
    }
   ],
   "source": [
    "mu = np.linalg.cond(A) # число обусловленности\n",
    "eigenv = np.linalg.eig(A)[0]\n",
    "lambda_max = max(eigenv)\n",
    "lambda_min = min(eigenv)\n",
    "\n",
    "print('mu = %f\\nlambda_min(A) = %f\\nlambda_max(A) = %f' %(mu, lambda_min, lambda_max))"
   ]
  },
  {
   "cell_type": "markdown",
   "metadata": {},
   "source": [
    "## Метод Гаусса"
   ]
  },
  {
   "cell_type": "code",
   "execution_count": 4,
   "metadata": {
    "collapsed": true
   },
   "outputs": [],
   "source": [
    "# решение для верхнетреугольной матрицы\n",
    "def solution(A, m):\n",
    "    x = np.empty(m)\n",
    "    for i in range(m-1, -1, -1): # итерируем в обратном порядке\n",
    "        x[i] = A[i][m] / A[i][i]\n",
    "        for j in range(i-1, -1, -1):\n",
    "            A[j][m] -= A[j][i] * x[i]\n",
    "    return x\n",
    "\n",
    "#  A -- расширенная матрица\n",
    "def gauss(A):\n",
    "    m = len(A) # количество строк в A\n",
    "    for k in range(m):\n",
    "        #\n",
    "        for i in range(k + 1, m):\n",
    "            coef = A[i][k] / A[k][k]\n",
    "            for j in range(k + 1, m + 1):\n",
    "                A[i][j] -= A[k][j] * coef\n",
    "            A[i][k] = 0\n",
    "    return solution(A, m)"
   ]
  },
  {
   "cell_type": "code",
   "execution_count": 5,
   "metadata": {},
   "outputs": [
    {
     "data": {
      "text/plain": [
       "array([1., 2., 3.])"
      ]
     },
     "execution_count": 5,
     "metadata": {},
     "output_type": "execute_result"
    }
   ],
   "source": [
    "# проверим работоспособность функции на простом примере\n",
    "matrix = [[1, 1, 1, 6],\n",
    "          [1, -1, 2, 5],\n",
    "          [2, -1, -1, -3]] # решение (1, 2, 3)\n",
    "gauss(matrix)"
   ]
  },
  {
   "cell_type": "code",
   "execution_count": 6,
   "metadata": {},
   "outputs": [
    {
     "data": {
      "text/plain": [
       "array([0.02522065, 0.06656199, 0.10603713, 0.14363565, 0.17935233,\n",
       "       0.21451454, 0.24997228, 0.28562803, 0.32138319, 0.35713861,\n",
       "       0.39286498, 0.42857782, 0.46428757, 0.49999946, 0.53571352,\n",
       "       0.57142822, 0.60714284, 0.64285722, 0.67857148, 0.71428573,\n",
       "       0.74999999, 0.78571428, 0.82142857, 0.85714286, 0.89285714,\n",
       "       0.92857143, 0.96428571, 1.        , 1.03571429, 1.07142857,\n",
       "       1.10714286, 1.14285714, 1.17857143, 1.21428571, 1.25      ,\n",
       "       1.28571429, 1.32142857, 1.35714286, 1.39285714, 1.42857143,\n",
       "       1.46428571, 1.5       , 1.53571429, 1.57142857, 1.60714286,\n",
       "       1.64285714, 1.67857143, 1.71428571, 1.75      , 1.78571429,\n",
       "       1.82142857, 1.85714286, 1.89285714, 1.92857143, 1.96428571,\n",
       "       2.        , 2.03571429, 2.07142857, 2.10714286, 2.14285714,\n",
       "       2.17857143, 2.21428571, 2.25      , 2.28571429, 2.32142857,\n",
       "       2.35714286, 2.39285714, 2.42857143, 2.46428571, 2.5       ,\n",
       "       2.53571429, 2.57142858, 2.60714285, 2.64285711, 2.67857138,\n",
       "       2.71428571, 2.75000017, 2.78571473, 2.821429  , 2.85714202,\n",
       "       2.89285372, 2.92856635, 2.96428598, 3.00002389, 3.0357635 ,\n",
       "       3.07146024, 3.10704178, 3.14240859, 3.17808944, 3.21461573,\n",
       "       3.25251702, 3.29231665, 3.32208762, 3.34176399, 3.35133575,\n",
       "       3.35084875, 3.57676015, 3.80423845, 4.03275234, 4.26177002])"
      ]
     },
     "execution_count": 6,
     "metadata": {},
     "output_type": "execute_result"
    }
   ],
   "source": [
    "gauss_solv = gauss(mtrx)\n",
    "gauss_solv"
   ]
  },
  {
   "cell_type": "markdown",
   "metadata": {},
   "source": [
    "## Метод Зейделя"
   ]
  },
  {
   "cell_type": "code",
   "execution_count": 7,
   "metadata": {
    "collapsed": true
   },
   "outputs": [],
   "source": [
    "ITERATION_LIMIT = 10000\n",
    "eps = 1e-20\n",
    "\n",
    "def seidel(A, b):\n",
    "    n = len(A)\n",
    "    x = [.0] * n\n",
    "    x_new = np.zeros_like(x)\n",
    "    for _ in range(ITERATION_LIMIT):\n",
    "        for i in range(n):\n",
    "            s1 = sum(A[i][j] * x_new[j] for j in range(i))\n",
    "            s2 = sum(A[i][j] * x[j] for j in range(i + 1, n))\n",
    "            x_new[i] = (b[i] - s1 - s2) / A[i][i]\n",
    "        if all(abs(x_new[i]-x[i]) < eps for i in range(n)):\n",
    "            return x_new\n",
    "        x = x_new"
   ]
  },
  {
   "cell_type": "code",
   "execution_count": 8,
   "metadata": {},
   "outputs": [
    {
     "data": {
      "text/plain": [
       "array([0.01740811, 0.0580423 , 0.0968258 , 0.13372928, 0.16873661,\n",
       "       0.20283875, 0.23725929, 0.27189924, 0.30665653, 0.34142771,\n",
       "       0.37616552, 0.41088711, 0.44560436, 0.48032357, 0.51504541,\n",
       "       0.54976808, 0.5844907 , 0.61921306, 0.65393525, 0.68865742,\n",
       "       0.72337962, 0.75810184, 0.79282407, 0.8275463 , 0.86226852,\n",
       "       0.89699074, 0.93171296, 0.96643519, 1.00115741, 1.03587963,\n",
       "       1.07060185, 1.10532407, 1.1400463 , 1.17476852, 1.20949074,\n",
       "       1.24421296, 1.27893519, 1.31365741, 1.34837963, 1.38310185,\n",
       "       1.41782407, 1.4525463 , 1.48726852, 1.52199074, 1.55671296,\n",
       "       1.59143519, 1.62615741, 1.66087963, 1.69560185, 1.73032407,\n",
       "       1.7650463 , 1.79976852, 1.83449074, 1.86921296, 1.90393519,\n",
       "       1.93865741, 1.97337963, 2.00810185, 2.04282407, 2.0775463 ,\n",
       "       2.11226852, 2.14699074, 2.18171296, 2.21643519, 2.25115741,\n",
       "       2.28587963, 2.32060185, 2.35532407, 2.3900463 , 2.42476852,\n",
       "       2.45949074, 2.49421296, 2.52893519, 2.56365741, 2.59837963,\n",
       "       2.63310185, 2.66782407, 2.7025463 , 2.73726852, 2.77199074,\n",
       "       2.80671296, 2.84143519, 2.87615741, 2.91087963, 2.94560185,\n",
       "       2.98032407, 3.0150463 , 3.04976852, 3.08449074, 3.11921296,\n",
       "       3.15393519, 3.18865741, 3.22337963, 3.25810185, 3.29282407,\n",
       "       3.3275463 , 3.57355324, 3.81107928, 4.04054847, 4.26236364])"
      ]
     },
     "execution_count": 8,
     "metadata": {},
     "output_type": "execute_result"
    }
   ],
   "source": [
    "seidel_solv = seidel(A, b)\n",
    "seidel_solv"
   ]
  },
  {
   "cell_type": "markdown",
   "metadata": {},
   "source": [
    "## Разница методов"
   ]
  },
  {
   "cell_type": "code",
   "execution_count": 9,
   "metadata": {},
   "outputs": [
    {
     "data": {
      "text/html": [
       "<iframe id=\"igraph\" scrolling=\"no\" style=\"border:none;\" seamless=\"seamless\" src=\"https://plot.ly/~cardoholic/104.embed\" height=\"525px\" width=\"100%\"></iframe>"
      ],
      "text/plain": [
       "<plotly.tools.PlotlyDisplay object>"
      ]
     },
     "execution_count": 9,
     "metadata": {},
     "output_type": "execute_result"
    }
   ],
   "source": [
    "trace0 = go.Scatter(y = gauss_solv,\n",
    "                    x = [(i + 1) for i in range(N)],\n",
    "                    mode = 'lines+markers',\n",
    "                    name = 'Метод Гаусса'\n",
    "                   )\n",
    "\n",
    "trace1 = go.Scatter(y = seidel_solv,\n",
    "                    x = [i+1 for i in range(N)],\n",
    "                    mode = 'lines+markers',\n",
    "                    name = 'Метод Зейделя'\n",
    "                   )\n",
    "\n",
    "data = [trace0, trace1]\n",
    "\n",
    "layout = go.Layout(title = 'Полученные корни системы',\n",
    "                   xaxis = dict(title = '$i$'),\n",
    "                   yaxis = dict(title = '$x_i$')\n",
    "                  )\n",
    "\n",
    "#fig = dict(data=data, layout=layout)\n",
    "fig = go.Figure(data=data, layout=layout)\n",
    "py.iplot(fig)"
   ]
  },
  {
   "cell_type": "code",
   "execution_count": 10,
   "metadata": {},
   "outputs": [
    {
     "data": {
      "text/html": [
       "<iframe id=\"igraph\" scrolling=\"no\" style=\"border:none;\" seamless=\"seamless\" src=\"https://plot.ly/~cardoholic/106.embed\" height=\"525px\" width=\"100%\"></iframe>"
      ],
      "text/plain": [
       "<plotly.tools.PlotlyDisplay object>"
      ]
     },
     "execution_count": 10,
     "metadata": {},
     "output_type": "execute_result"
    }
   ],
   "source": [
    "# Разность корней\n",
    "difference = [a_i - b_i for a_i, b_i in zip(seidel_solv, gauss_solv)]\n",
    "\n",
    "trace = go.Scatter(y = difference,\n",
    "                   x = [(i + 1) for i in range(N)],\n",
    "                   mode = 'lines+markers',\n",
    "                   name = 'Разница корней'\n",
    "                  )\n",
    "data = [trace]\n",
    "\n",
    "layout = go.Layout(title = 'Разница между корнями в методах',\n",
    "                   xaxis = dict(title = 'i'),\n",
    "                   yaxis = dict(title = 'Разница')\n",
    "                  )\n",
    "\n",
    "fig = go.Figure(data=data, layout=layout)\n",
    "py.iplot(fig)"
   ]
  },
  {
   "cell_type": "markdown",
   "metadata": {},
   "source": [
    "## Невязки"
   ]
  },
  {
   "cell_type": "markdown",
   "metadata": {},
   "source": [
    "Для нашей системы невзяка вычисляется по формуле \n",
    "$r = b - Ax$"
   ]
  },
  {
   "cell_type": "code",
   "execution_count": 11,
   "metadata": {},
   "outputs": [
    {
     "name": "stdout",
     "output_type": "stream",
     "text": [
      "невзяки Гаусс = [1.11022302e-16 0.00000000e+00 4.44089210e-16 0.00000000e+00\n",
      " 1.77635684e-15 0.00000000e+00 1.77635684e-15 1.77635684e-15\n",
      " 0.00000000e+00 0.00000000e+00 1.77635684e-15 3.55271368e-15\n",
      " 0.00000000e+00 0.00000000e+00 0.00000000e+00 3.55271368e-15\n",
      " 0.00000000e+00 0.00000000e+00 3.55271368e-15 0.00000000e+00\n",
      " 0.00000000e+00 0.00000000e+00 0.00000000e+00 3.55271368e-15\n",
      " 3.55271368e-15 0.00000000e+00 0.00000000e+00 3.55271368e-15\n",
      " 0.00000000e+00 0.00000000e+00 3.55271368e-15 3.55271368e-15\n",
      " 7.10542736e-15 7.10542736e-15 0.00000000e+00 0.00000000e+00\n",
      " 0.00000000e+00 1.42108547e-14 7.10542736e-15 7.10542736e-15\n",
      " 7.10542736e-15 7.10542736e-15 0.00000000e+00 0.00000000e+00\n",
      " 0.00000000e+00 7.10542736e-15 7.10542736e-15 0.00000000e+00\n",
      " 0.00000000e+00 0.00000000e+00 0.00000000e+00 1.42108547e-14\n",
      " 0.00000000e+00 0.00000000e+00 7.10542736e-15 0.00000000e+00\n",
      " 1.42108547e-14 7.10542736e-15 7.10542736e-15 0.00000000e+00\n",
      " 7.10542736e-15 0.00000000e+00 0.00000000e+00 0.00000000e+00\n",
      " 1.42108547e-14 0.00000000e+00 1.42108547e-14 0.00000000e+00\n",
      " 0.00000000e+00 1.42108547e-14 1.42108547e-14 0.00000000e+00\n",
      " 1.42108547e-14 1.42108547e-14 0.00000000e+00 0.00000000e+00\n",
      " 0.00000000e+00 0.00000000e+00 1.42108547e-14 0.00000000e+00\n",
      " 0.00000000e+00 1.42108547e-14 1.42108547e-14 1.42108547e-14\n",
      " 1.42108547e-14 0.00000000e+00 0.00000000e+00 0.00000000e+00\n",
      " 2.84217094e-14 0.00000000e+00 1.42108547e-14 0.00000000e+00\n",
      " 2.84217094e-14 1.42108547e-14 1.42108547e-14 1.42108547e-14\n",
      " 0.00000000e+00 0.00000000e+00 1.42108547e-14 0.00000000e+00]\n",
      "\n",
      " невзяки Зейдель = [1.94503821e-01 2.19615479e-01 2.45469690e-01 2.72404298e-01\n",
      " 3.00608415e-01 3.28648231e-01 3.56534750e-01 3.84314371e-01\n",
      " 4.12050880e-01 4.39811352e-01 4.67586414e-01 4.95367296e-01\n",
      " 5.23148085e-01 5.50926589e-01 5.78704153e-01 6.06481587e-01\n",
      " 6.34259200e-01 6.62036977e-01 6.89814792e-01 7.17592595e-01\n",
      " 7.45370378e-01 7.73148152e-01 8.00925926e-01 8.28703703e-01\n",
      " 8.56481481e-01 8.84259259e-01 9.12037037e-01 9.39814815e-01\n",
      " 9.67592593e-01 9.95370370e-01 1.02314815e+00 1.05092593e+00\n",
      " 1.07870370e+00 1.10648148e+00 1.13425926e+00 1.16203704e+00\n",
      " 1.18981481e+00 1.21759259e+00 1.24537037e+00 1.27314815e+00\n",
      " 1.30092593e+00 1.32870370e+00 1.35648148e+00 1.38425926e+00\n",
      " 1.41203704e+00 1.43981481e+00 1.46759259e+00 1.49537037e+00\n",
      " 1.52314815e+00 1.55092593e+00 1.57870370e+00 1.60648148e+00\n",
      " 1.63425926e+00 1.66203704e+00 1.68981481e+00 1.71759259e+00\n",
      " 1.74537037e+00 1.77314815e+00 1.80092593e+00 1.82870370e+00\n",
      " 1.85648148e+00 1.88425926e+00 1.91203704e+00 1.93981481e+00\n",
      " 1.96759259e+00 1.99537037e+00 2.02314815e+00 2.05092593e+00\n",
      " 2.07870370e+00 2.10648148e+00 2.13425926e+00 2.16203704e+00\n",
      " 2.18981481e+00 2.21759259e+00 2.24537037e+00 2.27314815e+00\n",
      " 2.30092593e+00 2.32870370e+00 2.35648148e+00 2.38425926e+00\n",
      " 2.41203704e+00 2.43981481e+00 2.46759259e+00 2.49537037e+00\n",
      " 2.52314815e+00 2.55092593e+00 2.57870370e+00 2.60648148e+00\n",
      " 2.63425926e+00 2.66203704e+00 2.68981481e+00 2.71759259e+00\n",
      " 2.53408565e+00 2.14777488e+00 1.56671716e+00 7.98566486e-01\n",
      " 3.13091949e-01 2.34767867e-02 7.83358579e-02 1.42108547e-14]\n"
     ]
    }
   ],
   "source": [
    "nevyaz_gauss = abs(np.array(b) - np.dot(A, gauss_solv))\n",
    "nevyaz_seidel = abs(np.array(b) - np.dot(A, seidel_solv))\n",
    "print('невзяки Гаусс = %s\\n\\n невзяки Зейдель = %s' %(nevyaz_gauss, nevyaz_seidel))"
   ]
  },
  {
   "cell_type": "code",
   "execution_count": 12,
   "metadata": {},
   "outputs": [
    {
     "data": {
      "text/html": [
       "<iframe id=\"igraph\" scrolling=\"no\" style=\"border:none;\" seamless=\"seamless\" src=\"https://plot.ly/~cardoholic/108.embed\" height=\"525px\" width=\"100%\"></iframe>"
      ],
      "text/plain": [
       "<plotly.tools.PlotlyDisplay object>"
      ]
     },
     "execution_count": 12,
     "metadata": {},
     "output_type": "execute_result"
    }
   ],
   "source": [
    "trace0 = go.Scatter(y = nevyaz_gauss,\n",
    "                    x = [(i + 1) for i in range(N)],\n",
    "                    mode = 'lines+markers',\n",
    "                    name = 'Метод Гаусса'\n",
    "                   )\n",
    "\n",
    "trace1 = go.Scatter(y = nevyaz_seidel,\n",
    "                    x = [i+1 for i in range(N)],\n",
    "                    mode = 'lines+markers',\n",
    "                    name = 'Метод Зейделя'\n",
    "                   )\n",
    "\n",
    "data = [trace0, trace1]\n",
    "\n",
    "layout = go.Layout(title = 'Невязки',\n",
    "                   xaxis = dict(title = '$i$'),\n",
    "                   yaxis = dict(title = '$r$')\n",
    "                  )\n",
    "\n",
    "#fig = dict(data=data, layout=layout)\n",
    "fig = go.Figure(data=data, layout=layout)\n",
    "py.iplot(fig)"
   ]
  },
  {
   "cell_type": "markdown",
   "metadata": {},
   "source": [
    "Построим отдельно невязки метода Гаусса, т.к. на этом графике ничего не понятно"
   ]
  },
  {
   "cell_type": "code",
   "execution_count": 14,
   "metadata": {},
   "outputs": [
    {
     "data": {
      "text/html": [
       "<iframe id=\"igraph\" scrolling=\"no\" style=\"border:none;\" seamless=\"seamless\" src=\"https://plot.ly/~cardoholic/112.embed\" height=\"525px\" width=\"100%\"></iframe>"
      ],
      "text/plain": [
       "<plotly.tools.PlotlyDisplay object>"
      ]
     },
     "execution_count": 14,
     "metadata": {},
     "output_type": "execute_result"
    }
   ],
   "source": [
    "# Метод Гаусса\n",
    "trace0 = go.Scatter(y = nevyaz_gauss,\n",
    "                    x = [(i + 1) for i in range(N)],\n",
    "                    mode = 'lines+markers',\n",
    "                    name = 'Метод Гаусса'\n",
    "                   )\n",
    "\n",
    "data = [trace0]\n",
    "layout = go.Layout(title = 'Невязки метода Гаусса',\n",
    "                   xaxis = dict(title = '$i$'),\n",
    "                   yaxis = dict(title = '$r$')\n",
    "                  )\n",
    "\n",
    "fig = go.Figure(data=data, layout=layout)\n",
    "py.iplot(fig)"
   ]
  },
  {
   "cell_type": "markdown",
   "metadata": {},
   "source": [
    "Вычислим среднюю ошибку"
   ]
  },
  {
   "cell_type": "code",
   "execution_count": 15,
   "metadata": {},
   "outputs": [
    {
     "name": "stdout",
     "output_type": "stream",
     "text": [
      "gaus_err = 4.481970e-15\n",
      "seid_err = 1.412086\n"
     ]
    }
   ],
   "source": [
    "gaus_err = np.mean(nevyaz_gauss)\n",
    "seid_err = np.mean(nevyaz_seidel)\n",
    "print('gaus_err = %e\\nseid_err = %f' %(gaus_err, seid_err))"
   ]
  },
  {
   "cell_type": "markdown",
   "metadata": {},
   "source": [
    "Как видно из графиков, при увеличении индекса решения увеличивается ошибка. Самое большое различие в корнях методов имеется для 92 корня, для этого же выброса и самая большая невязка для метода Зейделя, что и вносит основной вклад в столь существенное отличие в результатах средней ошибки. К тому же очевидно из графика невязки, что невязки для метода Гаусса гораздо меньше"
   ]
  }
 ],
 "metadata": {
  "celltoolbar": "Raw Cell Format",
  "kernelspec": {
   "display_name": "Python 3",
   "language": "python",
   "name": "python3"
  },
  "language_info": {
   "codemirror_mode": {
    "name": "ipython",
    "version": 3
   },
   "file_extension": ".py",
   "mimetype": "text/x-python",
   "name": "python",
   "nbconvert_exporter": "python",
   "pygments_lexer": "ipython3",
   "version": "3.6.3"
  }
 },
 "nbformat": 4,
 "nbformat_minor": 2
}
