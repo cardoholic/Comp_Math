{
 "cells": [
  {
   "cell_type": "markdown",
   "metadata": {},
   "source": [
    "# Задача VII.9.10(в)\n",
    "##### Северилов Павел 674 группа"
   ]
  },
  {
   "cell_type": "markdown",
   "metadata": {},
   "source": [
    "Вычислить несобственный интеграл с точностью $10^{-4}$:\n",
    "$$\\int_{0}^{1} \\cfrac{\\sin x}{1+x^2} dx$$\n",
    "\n",
    "Укажите и сравните различные приемы для решения каждой задачи."
   ]
  },
  {
   "cell_type": "markdown",
   "metadata": {},
   "source": [
    "### Решение"
   ]
  },
  {
   "cell_type": "code",
   "execution_count": 1,
   "metadata": {
    "collapsed": true
   },
   "outputs": [],
   "source": [
    "import numpy as np\n",
    "import matplotlib.pyplot as plt\n",
    "%matplotlib inline\n",
    "from numpy import sin\n",
    "\n",
    "# отключим всякие предупреждения Anaconda\n",
    "import warnings\n",
    "warnings.filterwarnings('ignore')"
   ]
  },
  {
   "cell_type": "markdown",
   "metadata": {},
   "source": [
    "Будем решать задачу методами прямоугольников, трапеций и симпсона. \n",
    "\n",
    "Прямоугольники:\n",
    "    $$I\\approx h\\cdot\\left(f_0+f_1+\\cdots+f_{N-1}\\right)$$\n",
    "    \n",
    "Трапеции:\n",
    "    $$I\\approx \\cfrac{h}{2}\\cdot\\left(f_0+2f_1+\\cdots+2f_{N-1}+f_N\\right)$$\n",
    "    \n",
    "Симпсон:\n",
    "    $$I\\approx \\cfrac{h}{3}\\cdot\\left(f_0+4f_1+2f_2+4f_3+\\cdots+2f_{N-2}+4f_{N-1}+f_N\\right)$$\n",
    "    \n",
    "Для подбора шага h будем пользоваться правилом Рунге"
   ]
  },
  {
   "cell_type": "code",
   "execution_count": 2,
   "metadata": {
    "collapsed": true
   },
   "outputs": [],
   "source": [
    "# пределы интегрирования\n",
    "a = 0 \n",
    "b = 1\n",
    "\n",
    "def f(x): \n",
    "    return sin(x)/(1+x*x)\n",
    "\n",
    "def method(f, h, mode):\n",
    "    if mode == 'rectangle':\n",
    "        return h * sum(f[:-1])\n",
    "    elif mode == 'trapez':\n",
    "        return 0.5 * h * (f[0] + f[-1] + 2*sum(f[1:-1]))\n",
    "    elif mode == 'simpson':\n",
    "        return h * (f[0] + 4 * sum(f[1:-1:2]) + 2 * sum(f[2:-2:2]) + f[-1])/3\n",
    "    else:\n",
    "        raise ValueError('Нет такого типа')\n",
    "\n",
    "def integrate(f, a, b, mode, eps=1e-4, logs=False):\n",
    "    i = 1 # количество итераций\n",
    "    n = 10\n",
    "    if mode == 'simpson':\n",
    "        p = 4\n",
    "    p = 2\n",
    "    Ih = method(f(np.linspace(a, b, n+1)), (b-a)/n, mode) # h = (b-a)/n\n",
    "    while 1:\n",
    "        Ih2 = method(f(np.linspace(a, b, 2*n+1)), (b-a)/(n*2), mode) # h/2\n",
    "        runge = (Ih2 - Ih)/(2**p - 1) \n",
    "        if logs == True:\n",
    "            print('h = %4f, I = %.9f, error = %e' % ((b-a)/n, Ih2, abs(runge)))\n",
    "        if abs(runge) < eps:\n",
    "            break\n",
    "        n *= 2\n",
    "        Ih = Ih2\n",
    "        i += 1\n",
    "    return [Ih2 + runge, i]"
   ]
  },
  {
   "cell_type": "markdown",
   "metadata": {},
   "source": [
    "### Метод прямоугольников"
   ]
  },
  {
   "cell_type": "code",
   "execution_count": 3,
   "metadata": {},
   "outputs": [
    {
     "name": "stdout",
     "output_type": "stream",
     "text": [
      "h = 0.100000, I = 0.311035376, error = 3.746218e-03\n",
      "h = 0.050000, I = 0.316474420, error = 1.813015e-03\n",
      "h = 0.025000, I = 0.319148966, error = 8.915153e-04\n",
      "h = 0.012500, I = 0.320475001, error = 4.420116e-04\n",
      "h = 0.006250, I = 0.321135209, error = 2.200694e-04\n",
      "h = 0.003125, I = 0.321464611, error = 1.098006e-04\n",
      "h = 0.001563, I = 0.321629136, error = 5.484179e-05\n",
      "Итоговое значение интеграла:  0.321684;\n",
      "Количество итераций: 7\n"
     ]
    }
   ],
   "source": [
    "I = integrate(f, a, b, mode='rectangle', eps = 1e-4, logs=True)\n",
    "print('Итоговое значение интеграла:  %f;\\nКоличество итераций: %d'%(I[0], I[1]))"
   ]
  },
  {
   "cell_type": "markdown",
   "metadata": {},
   "source": [
    "### Метод трапеций"
   ]
  },
  {
   "cell_type": "code",
   "execution_count": 4,
   "metadata": {},
   "outputs": [
    {
     "name": "stdout",
     "output_type": "stream",
     "text": [
      "h = 0.100000, I = 0.321553763, error = 2.400887e-04\n",
      "h = 0.050000, I = 0.321733614, error = 5.995017e-05\n",
      "Итоговое значение интеграла:  0.321794;\n",
      "Количество итераций: 2\n"
     ]
    }
   ],
   "source": [
    "I = integrate(f, a, b, mode='trapez', eps = 1e-4, logs=True)\n",
    "print('Итоговое значение интеграла:  %f;\\nКоличество итераций: %d' %(I[0], I[1]))"
   ]
  },
  {
   "cell_type": "markdown",
   "metadata": {},
   "source": [
    "### Метод Симпсона"
   ]
  },
  {
   "cell_type": "code",
   "execution_count": 5,
   "metadata": {},
   "outputs": [
    {
     "name": "stdout",
     "output_type": "stream",
     "text": [
      "h = 0.100000, I = 0.321793852, error = 1.560211e-06\n",
      "Итоговое значение интеграла:  0.321792;\n",
      "Количество итераций: 1\n"
     ]
    }
   ],
   "source": [
    "I = integrate(f, a, b, mode='simpson', eps = 1e-4, logs=True)\n",
    "print('Итоговое значение интеграла:  %f;\\nКоличество итераций: %d' %(I[0], I[1]))"
   ]
  }
 ],
 "metadata": {
  "kernelspec": {
   "display_name": "Python 3",
   "language": "python",
   "name": "python3"
  },
  "language_info": {
   "codemirror_mode": {
    "name": "ipython",
    "version": 3
   },
   "file_extension": ".py",
   "mimetype": "text/x-python",
   "name": "python",
   "nbconvert_exporter": "python",
   "pygments_lexer": "ipython3",
   "version": "3.6.3"
  }
 },
 "nbformat": 4,
 "nbformat_minor": 2
}
