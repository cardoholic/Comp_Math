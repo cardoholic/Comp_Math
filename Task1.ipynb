{
 "cells": [
  {
   "cell_type": "markdown",
   "metadata": {},
   "source": [
    "# Задача 1.2.16\n",
    "##### Северилов Павел 674 группа"
   ]
  },
  {
   "cell_type": "markdown",
   "metadata": {},
   "source": [
    "Найти $$S_N=\\sum_{n = 0}^{N}a_n;~~~~~~~~~ a_n = \\cfrac{32}{(n^2 + 5n + 6)}$$"
   ]
  },
  {
   "cell_type": "markdown",
   "metadata": {},
   "source": [
    "* Посчитаем аналитически сумму ряда $\\sum_{n = 0}^{\\infty}a_n$:\n",
    "\n",
    "$$S = 32\\sum_{n = 0}^{\\infty}\\cfrac{1}{n^2 + 5n + 6} = 32\\sum_{n = 0}^{\\infty}\\cfrac{1}{(n+3)(n+2)} = 32\\sum_{n = 0}^{\\infty}\\left(\\cfrac{1}{n+2} - \\cfrac{1}{n+3}\\right) = 32\\left[ \\left( \\cfrac{1}{2}-\\cfrac{1}{3}\\right)+\\left(\\cfrac{1}{3}-\\cfrac{1}{4}\\right)+\\cdots\\right] = 32\\cdot \\cfrac{1}{2} = 16$$\n",
    "\n",
    "* Величина погрешности равна $\\Delta = S-S_N$\n",
    "\n",
    "* Вычислим значения частичных сумм ряда $S_N$ и найдем величину погрешности при значениях $N = 10,~10^2,~10^3,~10^4,~10^5$:"
   ]
  },
  {
   "cell_type": "code",
   "execution_count": 17,
   "metadata": {
    "collapsed": true
   },
   "outputs": [],
   "source": [
    "import pandas as pd\n",
    "import numpy as np\n",
    "import scipy"
   ]
  },
  {
   "cell_type": "code",
   "execution_count": 18,
   "metadata": {
    "collapsed": true
   },
   "outputs": [],
   "source": [
    "def series(n): \n",
    "    sums = 0.0\n",
    "    for i in range(1, n): \n",
    "        sums += 32/(i*i+5*i+6); \n",
    "    return sums\n",
    "\n",
    "\n",
    "def smartsum(n):\n",
    "    sum = 0.0\n",
    "    x1 = 0\n",
    "    x2 = 0\n",
    "    i = 0\n",
    "    while i<n:\n",
    "        x1 += 1/(i+2)\n",
    "        x2 += 1/(i+3)\n",
    "        i += 1\n",
    "    sum = 32*(x1 - x2)\n",
    "    return sum\n",
    "\n",
    "#def elements(n):\n",
    "#    elements = []\n",
    "#    for i in range(1, n):\n",
    "#        elements.append(32/(i*i+5*i+6))\n",
    "#    return elements"
   ]
  },
  {
   "cell_type": "code",
   "execution_count": 19,
   "metadata": {},
   "outputs": [
    {
     "name": "stdout",
     "output_type": "stream",
     "text": [
      "S_N = 8.000000, smart S_N = 13.333333,\n",
      " погрешность: 8.000000 (e = 100.000%), погрешность для smartsum: 2.666667 (e = 20.000%), N = 10\n",
      "\n",
      "S_N = 10.352941, smart S_N = 15.686275,\n",
      " погрешность: 5.647059 (e = 54.545%), погрешность для smartsum: 0.313725 (e = 2.000%), N = 100\n",
      "\n",
      "S_N = 10.634731, smart S_N = 15.968064,\n",
      " погрешность: 5.365269 (e = 50.450%), погрешность для smartsum: 0.031936 (e = 0.200%), N = 1000\n",
      "\n",
      "S_N = 10.663467, smart S_N = 15.996801,\n",
      " погрешность: 5.336533 (e = 50.045%), погрешность для smartsum: 0.003199 (e = 0.020%), N = 10000\n",
      "\n",
      "S_N = 10.666347, smart S_N = 15.999680,\n",
      " погрешность: 5.333653 (e = 50.005%), погрешность для smartsum: 0.000320 (e = 0.002%), N = 100000\n",
      "\n"
     ]
    }
   ],
   "source": [
    "S = 16\n",
    "n = [10, 100, 1000, 10000, 100000]\n",
    "for k in n:\n",
    "    sn = series(k)\n",
    "    smart_sn = smartsum(k)\n",
    "    e1 = 100*(S - sn)/sn # относительная погрешность для sn\n",
    "    e2 = 100*(S - smart_sn)/smart_sn # относительная погрешность для smart_sn\n",
    "    print(\"S_N = %f, smart S_N = %f,\\n погрешность: %f (e = %.3f%%), погрешность для smartsum: %f (e = %.3f%%), N = %d\\n\" %(sn, smart_sn, S - sn, e1, S-smart_sn, e2, k))"
   ]
  },
  {
   "cell_type": "code",
   "execution_count": null,
   "metadata": {
    "collapsed": true
   },
   "outputs": [],
   "source": []
  }
 ],
 "metadata": {
  "kernelspec": {
   "display_name": "Python 3",
   "language": "python",
   "name": "python3"
  },
  "language_info": {
   "codemirror_mode": {
    "name": "ipython",
    "version": 3
   },
   "file_extension": ".py",
   "mimetype": "text/x-python",
   "name": "python",
   "nbconvert_exporter": "python",
   "pygments_lexer": "ipython3",
   "version": "3.6.3"
  }
 },
 "nbformat": 4,
 "nbformat_minor": 2
}
